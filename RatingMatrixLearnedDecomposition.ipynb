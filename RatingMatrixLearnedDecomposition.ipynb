{
 "cells": [
  {
   "cell_type": "code",
   "execution_count": 1,
   "metadata": {},
   "outputs": [],
   "source": [
    "import numpy as np\n",
    "import math"
   ]
  },
  {
   "cell_type": "code",
   "execution_count": 2,
   "metadata": {},
   "outputs": [],
   "source": [
    "filepath = '/home/ec2-user/SageMaker/efs/CS246/ratings.train.txt'"
   ]
  },
  {
   "cell_type": "code",
   "execution_count": 121,
   "metadata": {},
   "outputs": [],
   "source": [
    "# params\n",
    "k_num_eigenvectors = 20\n",
    "lambda_regularization = 0.1\n",
    "num_epochs = 40"
   ]
  },
  {
   "cell_type": "code",
   "execution_count": 122,
   "metadata": {},
   "outputs": [],
   "source": [
    "def get_sets():\n",
    "    users = set()\n",
    "    items = set()\n",
    "    # https://stackabuse.com/read-a-file-line-by-line-in-python/\n",
    "    with open(filepath) as fp:\n",
    "        line = fp.readline()\n",
    "        cnt = 1\n",
    "        while line:\n",
    "            ### EXTRACT\n",
    "            line_whole = line.strip()\n",
    "            line_values = line_whole.split(\"\\t\")\n",
    "            line_user = int(line_values[0])\n",
    "            line_item = int(line_values[1])\n",
    "            line_rating = int(line_values[2])\n",
    "            # print(user, item, rating)\n",
    "            ### ADD\n",
    "            users.add(line_user)\n",
    "            items.add(line_item)\n",
    "            # NEXT\n",
    "            line = fp.readline()\n",
    "            cnt += 1    \n",
    "    return items, users"
   ]
  },
  {
   "cell_type": "code",
   "execution_count": 123,
   "metadata": {},
   "outputs": [
    {
     "name": "stdout",
     "output_type": "stream",
     "text": [
      "max(items)= 943 max(users)= 1682\n",
      "(943, 20) (20, 1682)\n"
     ]
    }
   ],
   "source": [
    "np.random.seed(0)\n",
    "\n",
    "def init():\n",
    "    U, I = get_sets()\n",
    "    m = max(I)\n",
    "    n = max(U)\n",
    "    print(\"max(items)=\", m, \"max(users)=\", n)\n",
    "    # initialize\n",
    "    min_value = 0\n",
    "    max_value = math.sqrt(5/k_num_eigenvectors)\n",
    "    # item-concept\n",
    "    Q = np.random.random((m, k_num_eigenvectors)) * max_value\n",
    "    # user-concept\n",
    "    P = np.random.random((n, k_num_eigenvectors)) * max_value\n",
    "\n",
    "    print(Q.shape, P.T.shape)\n",
    "    return Q, P\n",
    "\n",
    "q, p = init()\n"
   ]
  },
  {
   "cell_type": "code",
   "execution_count": 124,
   "metadata": {},
   "outputs": [
    {
     "data": {
      "text/plain": [
       "39.41066134544589"
      ]
     },
     "execution_count": 124,
     "metadata": {},
     "output_type": "execute_result"
    }
   ],
   "source": [
    "np.linalg.norm(q)"
   ]
  },
  {
   "cell_type": "code",
   "execution_count": 125,
   "metadata": {},
   "outputs": [
    {
     "data": {
      "text/plain": [
       "52.935014591038104"
      ]
     },
     "execution_count": 125,
     "metadata": {},
     "output_type": "execute_result"
    }
   ],
   "source": [
    "np.linalg.norm(p)"
   ]
  },
  {
   "cell_type": "code",
   "execution_count": 126,
   "metadata": {},
   "outputs": [
    {
     "name": "stdout",
     "output_type": "stream",
     "text": [
      "max(items)= 943 max(users)= 1682\n",
      "(943, 20) (20, 1682)\n"
     ]
    },
    {
     "data": {
      "text/plain": [
       "591572.8594272558"
      ]
     },
     "execution_count": 126,
     "metadata": {},
     "output_type": "execute_result"
    }
   ],
   "source": [
    "def calc_loss(Q, P, lambda_regularization):\n",
    "    \n",
    "    loss = 0\n",
    "\n",
    "    # loss += (R - Q[i] @ P[u].T) ** 2\n",
    "    with open(filepath) as fp:\n",
    "        line = fp.readline()\n",
    "        while line:\n",
    "            ### EXTRACT\n",
    "            line_whole = line.strip()\n",
    "            line_values = line_whole.split(\"\\t\")\n",
    "            line_item = int(line_values[0])\n",
    "            line_user = int(line_values[1])\n",
    "            Riu = int(line_values[2])\n",
    "            ### RESIDUAL\n",
    "            Qi = Q[line_item-1,:]\n",
    "            Pu = P[line_user-1,:]\n",
    "            prediction = Qi @ Pu.T\n",
    "            # prediction = np.dot(Qi, Pu.T)\n",
    "            loss += pow(Riu - prediction, 2)\n",
    "            # print(\"rating=\", Riu, \"prediction=\", prediction)\n",
    "            # NEXT\n",
    "            line = fp.readline()\n",
    "    \n",
    "#     loss += lambda_regularization * np.linalg.norm(Q) ** 2\n",
    "#     loss += lambda_regularization * np.linalg.norm(P) ** 2\n",
    "\n",
    "    for Qi in Q:\n",
    "        norm = np.linalg.norm(Qi)\n",
    "        loss += lambda_regularization * pow(norm, 2)\n",
    "        \n",
    "    for Pu in P:\n",
    "        norm = np.linalg.norm(Pu)\n",
    "        loss += lambda_regularization * pow(norm, 2)  \n",
    "        \n",
    "    return loss\n",
    "\n",
    "q, p = init()\n",
    "r = calc_loss(q, p, 0.01)\n",
    "r"
   ]
  },
  {
   "cell_type": "code",
   "execution_count": 113,
   "metadata": {},
   "outputs": [],
   "source": [
    "def do_training(Q, P, q_learn_rate, p_learn_rate):\n",
    "    # https://stackabuse.com/read-a-file-line-by-line-in-python/\n",
    "    with open(filepath) as fp:\n",
    "        line = fp.readline()\n",
    "        \n",
    "        cnt = 1\n",
    "        while line:\n",
    "            ### EXTRACT\n",
    "            line_whole = line.strip()\n",
    "            line_values = line_whole.split(\"\\t\")\n",
    "            line_item = int(line_values[0])\n",
    "            line_user = int(line_values[1])\n",
    "            Riu = int(line_values[2])\n",
    "            # print(user, item, rating)\n",
    "            ### TRAIN\n",
    "            Qi = Q[line_item-1,:]\n",
    "            Pu = P[line_user-1,:]\n",
    "#             print(\"line_item=\", line_item, \"line_user=\", line_user)\n",
    "#             print(\"Qi=\", Qi)\n",
    "#             print(\"Pu=\", Pu)\n",
    "#             print(\"Riu=\", Riu)\n",
    "            rating_gradient_iu = 2 * ( Riu - np.dot(Qi, Pu.T) )\n",
    "#             print(\"rating_gradient_iu=\", rating_gradient_iu)\n",
    "            Q[line_item-1,:] = Qi + q_learn_rate * ( rating_gradient_iu * Pu.T - 2 * lambda_regularization * Qi )\n",
    "            P[line_user-1,:] = Pu + p_learn_rate * ( rating_gradient_iu * Qi - 2 * lambda_regularization * Pu ) \n",
    "            # NEXT\n",
    "            line = fp.readline()\n",
    "            cnt += 1\n",
    "            if len(np.argwhere(np.isnan(Qi))) > 0:\n",
    "                return Q, P\n",
    "    return Q, P"
   ]
  },
  {
   "cell_type": "code",
   "execution_count": 143,
   "metadata": {},
   "outputs": [],
   "source": [
    "# p_learn_rate = 0.1\n",
    "# q_learn_rate = 0.1\n",
    "learn_rates = [0.03, 0.01, 0.001]"
   ]
  },
  {
   "cell_type": "code",
   "execution_count": 145,
   "metadata": {},
   "outputs": [
    {
     "name": "stdout",
     "output_type": "stream",
     "text": [
      "max(items)= 943 max(users)= 1682\n",
      "(943, 20) (20, 1682)\n",
      "learn_rate= 0.03 loss= [95604.80324651461, 88984.43369668766, 81351.95610118809, 75111.3436309199, 70617.48150722792, 67497.52816328515, 65300.20210925365, 63711.98049772697, 62533.19367703804, 61636.27610553515, 60937.70564982123, 60381.68671817983, 59930.487459190175, 59558.263726885234, 59246.96821281247, 58983.67264659226, 58758.85464665777, 58565.313444779946, 58397.47884799411, 58250.96154078364, 58122.25206939957, 58008.51312091465, 57907.431760037936, 57817.11113882555, 57735.988821760664, 57662.7735372655, 57596.39509406114, 57535.96404872905, 57480.73886673379, 57430.099029211146, 57383.522968440804, 57340.56997800213, 57300.86541225316, 57264.08860794947, 57229.96305277684, 57198.248402619996, 57168.73401610441, 57141.23373248082, 57115.581667505365, 57091.628841970596]\n",
      "max(items)= 943 max(users)= 1682\n",
      "(943, 20) (20, 1682)\n",
      "learn_rate= 0.01 loss= [83873.94940726744, 81182.06863128407, 80104.1618785421, 79103.070086653, 77796.39495518182, 76076.78672030794, 74141.15992648061, 72247.97139038278, 70463.75380371645, 68752.82639878146, 67092.82122855807, 65491.776276823766, 63970.53836601628, 62547.41041752036, 61232.34454241077, 60027.55989111761, 58930.16534720361, 57934.442045018324, 57033.28617380677, 56219.02809461751, 55483.902928640564, 54820.33833999783, 54221.137103803005, 53679.58916757702, 53189.53180447007, 52745.37105958467, 52342.075373116415, 51975.15046027633, 51640.60271213985, 51334.896618483166, 51054.91014408062, 50797.89069791992, 50561.41333893865, 50343.34213682443, 50141.7951053454, 49955.11279720061, 49781.830446625536, 49620.6534305734, 49470.43576224942, 49330.161310919895]\n",
      "max(items)= 943 max(users)= 1682\n",
      "(943, 20) (20, 1682)\n",
      "learn_rate= 0.001 loss= [165876.8161613506, 113408.72600623977, 98198.37255362133, 91029.34829966992, 86929.72292341755, 84322.32848637839, 82544.90152592257, 81270.77189989731, 80321.1908827401, 79590.89282527157, 79014.32707872229, 78548.81594112396, 78165.53654564943, 77844.41390827495, 77571.09262719296, 77335.06995853034, 77128.50573710354, 76945.4413832479, 76781.2741590885, 76632.39522178755, 76495.9354373921, 76369.5836806729, 76251.45487308763, 76139.99276799604, 76033.897409992, 75932.07038006223, 75833.57304136851, 75737.59441389241, 75643.42627146028, 75550.44372391427, 75458.09001700864, 75365.86461688498, 75273.31388579219, 75180.02382973568, 75085.61452545914, 74989.73592687292, 74892.0648187366, 74792.30273434686, 74690.17468883657, 74585.42860340516]\n"
     ]
    }
   ],
   "source": [
    "# for i in range(num_epochs):\n",
    "rate_loss = {}\n",
    "\n",
    "for learn_rate in learn_rates:\n",
    "    Q, P = init()\n",
    "    loss = []\n",
    "    for i in range(num_epochs):\n",
    "        Q, P = do_training(Q, P, learn_rate, learn_rate)  \n",
    "        l = calc_loss(Q, P, lambda_regularization)\n",
    "        # print(\"learn_rate=\", learn_rate, \"i=\", i, \"loss=\", l)\n",
    "        loss.append(l)   \n",
    "    rate_loss[(learn_rate)] = loss\n",
    "    print(\"learn_rate=\", learn_rate, \"loss=\", loss)\n"
   ]
  },
  {
   "cell_type": "code",
   "execution_count": 146,
   "metadata": {},
   "outputs": [
    {
     "data": {
      "text/plain": [
       "Text(0, 0.5, 'loss')"
      ]
     },
     "execution_count": 146,
     "metadata": {},
     "output_type": "execute_result"
    },
    {
     "data": {
      "image/png": "[encoded data removed]",
      "text/plain": [
       "<Figure size 432x288 with 1 Axes>"
      ]
     },
     "metadata": {},
     "output_type": "display_data"
    }
   ],
   "source": [
    "import matplotlib.pyplot as plt\n",
    "import datetime\n",
    "import numpy as np\n",
    "\n",
    "x = [i for i in range(num_epochs)]\n",
    "\n",
    "for k, v in rate_loss.items():\n",
    "    y = v\n",
    "    plt.plot(x,y)\n",
    "    \n",
    "plt.xlabel('epoch')\n",
    "plt.ylabel('loss')\n",
    "\n",
    "# plt.show()"
   ]
  },
  {
   "cell_type": "code",
   "execution_count": null,
   "metadata": {},
   "outputs": [],
   "source": []
  }
 ],
 "metadata": {
  "kernelspec": {
   "display_name": "conda_python3",
   "language": "python",
   "name": "conda_python3"
  },
  "language_info": {
   "codemirror_mode": {
    "name": "ipython",
    "version": 3
   },
   "file_extension": ".py",
   "mimetype": "text/x-python",
   "name": "python",
   "nbconvert_exporter": "python",
   "pygments_lexer": "ipython3",
   "version": "3.6.5"
  }
 },
 "nbformat": 4,
 "nbformat_minor": 2
}
